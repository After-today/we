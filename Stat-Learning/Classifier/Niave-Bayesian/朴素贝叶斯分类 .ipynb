{
 "cells": [
  {
   "cell_type": "markdown",
   "metadata": {},
   "source": [
    "###  朴素贝叶斯分类"
   ]
  },
  {
   "cell_type": "markdown",
   "metadata": {},
   "source": [
    "概率算法,基于概率和数理统计中的贝叶斯定理。思想：是根据某些个先验概率计算Y变量属于某个类别的后验概率。"
   ]
  },
  {
   "cell_type": "markdown",
   "metadata": {},
   "source": [
    "$P(D|C)=\\cfrac{P(C|D)P(D)}{P(C)}$"
   ]
  },
  {
   "cell_type": "markdown",
   "metadata": {},
   "source": [
    "http://blog.csdn.net/sinat_36246371/article/details/60140664 朴素贝叶斯分类器<br/>\n",
    "http://blog.csdn.net/tanhongguang1/article/details/45016421  机器学习贝叶斯文本分类"
   ]
  },
  {
   "cell_type": "code",
   "execution_count": 1,
   "metadata": {},
   "outputs": [
    {
     "name": "stdout",
     "output_type": "stream",
     "text": [
      "[('i', True), ('is', True), ('in', True), ('he', True), ('ambitious', False)]\n",
      "'behold' class False\n",
      "'the' class True\n",
      "Accuracy 0.8521671826625387\n",
      "Most Informative Features\n",
      "                     len = 7               False : True   =     77.8 : 1.0\n",
      "                     len = 6               False : True   =     52.2 : 1.0\n",
      "                     len = 1                True : False  =     51.8 : 1.0\n",
      "                     len = 2                True : False  =     10.9 : 1.0\n",
      "                     len = 5               False : True   =     10.9 : 1.0\n",
      "None\n"
     ]
    }
   ],
   "source": [
    "import nltk\n",
    "import string\n",
    "import random\n",
    "# 停用词和标点符号集合\n",
    "sw = set(nltk.corpus.stopwords.words('english'))\n",
    "punctuation = set(string.punctuation)\n",
    "# 将字长作为一个特征\n",
    "def word_features(word):\n",
    "    return {'len': len(word)}\n",
    "# 是否为停用词或是标点符号\n",
    "def isStopword(word):\n",
    "    return word in sw or word in punctuation\n",
    "# 加载文件\n",
    "gb = nltk.corpus.gutenberg\n",
    "words = gb.words(\"shakespeare-caesar.txt\")\n",
    "# 对单词进行标注,区分是否为停用词\n",
    "labeled_words = ([(word.lower(), isStopword(word.lower())) for word in words])\n",
    "random.seed(42)\n",
    "random.shuffle(labeled_words)\n",
    "print(labeled_words[:5])\n",
    "# 求出每个单词的长度,作为特征值\n",
    "featuresets = [(word_features(n), word) for (n, word) in labeled_words]\n",
    "# 训练一个朴素贝叶斯分类器\n",
    "cutoff = int(.9 * len(featuresets))\n",
    "# 创建训练数据集和测试数据集\n",
    "train_set, test_set = featuresets[:cutoff], featuresets[cutoff:]\n",
    "# 检查分类器效果\n",
    "classifier = nltk.NaiveBayesClassifier.train(train_set)\n",
    "print(\"'behold' class\", classifier.classify(word_features('behold')))\n",
    "print(\"'the' class\", classifier.classify(word_features('the')))\n",
    "# 根据测试数据集来计算分类器的准确性\n",
    "print(\"Accuracy\", nltk.classify.accuracy(classifier, test_set))\n",
    "# 贡献度最大的特征\n",
    "print(classifier.show_most_informative_features(5)) "
   ]
  }
 ],
 "metadata": {
  "kernelspec": {
   "display_name": "Python 3",
   "language": "python",
   "name": "python3"
  },
  "language_info": {
   "codemirror_mode": {
    "name": "ipython",
    "version": 3
   },
   "file_extension": ".py",
   "mimetype": "text/x-python",
   "name": "python",
   "nbconvert_exporter": "python",
   "pygments_lexer": "ipython3",
   "version": "3.6.4"
  },
  "toc": {
   "nav_menu": {},
   "number_sections": true,
   "sideBar": true,
   "skip_h1_title": false,
   "title_cell": "Table of Contents",
   "title_sidebar": "Python组会",
   "toc_cell": false,
   "toc_position": {
    "height": "512px",
    "left": "1139px",
    "top": "107.13px",
    "width": "322px"
   },
   "toc_section_display": true,
   "toc_window_display": true
  }
 },
 "nbformat": 4,
 "nbformat_minor": 2
}
