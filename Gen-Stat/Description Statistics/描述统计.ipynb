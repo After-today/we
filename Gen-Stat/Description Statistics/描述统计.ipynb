{
 "cells": [
  {
   "cell_type": "markdown",
   "metadata": {},
   "source": [
    "# Python中的一些描述统计"
   ]
  },
  {
   "cell_type": "code",
   "execution_count": 1,
   "metadata": {},
   "outputs": [
    {
     "name": "stdout",
     "output_type": "stream",
     "text": [
      "                                                    e_mdr_pct_rr_new\n",
      "country                                                             \n",
      "Afghanistan                                                     85.0\n",
      "Albania                                                         25.0\n",
      "Algeria                                                        100.0\n",
      "American Samoa                                                  83.0\n",
      "Andorra                                                          NaN\n",
      "Angola                                                          67.0\n",
      "Anguilla                                                        88.0\n",
      "Antigua and Barbuda                                             79.0\n",
      "Argentina                                                       94.0\n",
      "Armenia                                                         87.0\n",
      "Aruba                                                           79.0\n",
      "Australia                                                       71.0\n",
      "Austria                                                         98.0\n",
      "Azerbaijan                                                      98.0\n",
      "Bahamas                                                         33.0\n",
      "Bahrain                                                        100.0\n",
      "Bangladesh                                                      88.0\n",
      "Barbados                                                         NaN\n",
      "Belarus                                                         96.0\n",
      "Belgium                                                         94.0\n",
      "Belize                                                          88.0\n",
      "Benin                                                           42.0\n",
      "Bermuda                                                          NaN\n",
      "Bhutan                                                          90.0\n",
      "Bolivia (Plurinational State of)                                88.0\n",
      "Bonaire, Saint Eustatius and Saba                               88.0\n",
      "Bosnia and Herzegovina                                          67.0\n",
      "Botswana                                                        69.0\n",
      "Brazil                                                          93.0\n",
      "British Virgin Islands                                          79.0\n",
      "...                                                              ...\n",
      "Tajikistan                                                      47.0\n",
      "Thailand                                                        91.0\n",
      "The Former Yugoslav Republic of Macedonia                       75.0\n",
      "Timor-Leste                                                     90.0\n",
      "Togo                                                            67.0\n",
      "Tokelau                                                         83.0\n",
      "Tonga                                                           83.0\n",
      "Trinidad and Tobago                                             79.0\n",
      "Tunisia                                                        100.0\n",
      "Turkey                                                          72.0\n",
      "Turkmenistan                                                    97.0\n",
      "Turks and Caicos Islands                                        79.0\n",
      "Tuvalu                                                          83.0\n",
      "Uganda                                                          88.0\n",
      "Ukraine                                                         97.0\n",
      "United Arab Emirates                                            79.0\n",
      "United Kingdom of Great Britain and Northern Ir...              87.0\n",
      "United Republic of Tanzania                                     85.0\n",
      "United States of America                                        80.0\n",
      "Uruguay                                                         67.0\n",
      "US Virgin Islands                                               79.0\n",
      "Uzbekistan                                                      96.0\n",
      "Vanuatu                                                          NaN\n",
      "Venezuela (Bolivarian Republic of)                              88.0\n",
      "Viet Nam                                                        98.0\n",
      "Wallis and Futuna Islands                                       83.0\n",
      "West Bank and Gaza Strip                                        85.0\n",
      "Yemen                                                           74.0\n",
      "Zambia                                                          27.0\n",
      "Zimbabwe                                                        67.0\n",
      "\n",
      "[217 rows x 1 columns]\n"
     ]
    }
   ],
   "source": [
    "import numpy as np\n",
    "import pandas as pd\n",
    "from scipy.stats import scoreatpercentile\n",
    "#data=np.loadtxt(\"mdrtb1.csv\",str,delimiter=',',usecols=(1,),skiprows=1,unpack=True)\n",
    "data = pd.read_csv('mdrtb.csv',index_col='country')\n",
    "print(data)"
   ]
  },
  {
   "cell_type": "code",
   "execution_count": 2,
   "metadata": {},
   "outputs": [
    {
     "name": "stdout",
     "output_type": "stream",
     "text": [
      "Max method e_mdr_pct_rr_new    100.0\n",
      "dtype: float64\n",
      "Max function e_mdr_pct_rr_new    100.0\n",
      "dtype: float64\n",
      "Min method e_mdr_pct_rr_new    0.0\n",
      "dtype: float64\n",
      "Min function e_mdr_pct_rr_new    0.0\n",
      "dtype: float64\n",
      "Mean method e_mdr_pct_rr_new    76.968421\n",
      "dtype: float64\n",
      "Mean function e_mdr_pct_rr_new    76.968421\n",
      "dtype: float64\n",
      "Std method e_mdr_pct_rr_new    18.91275\n",
      "dtype: float64\n",
      "Std function e_mdr_pct_rr_new    18.862914\n",
      "dtype: float64\n",
      "Median nan\n",
      "Score at percentile 50 83.0\n"
     ]
    },
    {
     "name": "stderr",
     "output_type": "stream",
     "text": [
      "D:\\Python\\Anaconda3\\lib\\site-packages\\numpy\\lib\\function_base.py:4033: RuntimeWarning: Invalid value encountered in median\n",
      "  r = func(a, **kwargs)\n"
     ]
    }
   ],
   "source": [
    "#计算最大值、最小值、平均数和标准差\n",
    "print(\"Max method\",data.max())\n",
    "print(\"Max function\",np.max(data))\n",
    "print(\"Min method\",data.min())\n",
    "print(\"Min function\",np.min(data))\n",
    "print(\"Mean method\",data.mean())\n",
    "print(\"Mean function\",np.mean(data))\n",
    "print(\"Std method\",data.std())\n",
    "print(\"Std function\",np.std(data))\n",
    "print (\"Median\",np.median(data))\n",
    "print(\"Score at percentile 50\",scoreatpercentile(data,50))"
   ]
  }
 ],
 "metadata": {
  "kernelspec": {
   "display_name": "Python 3",
   "language": "python",
   "name": "python3"
  },
  "language_info": {
   "codemirror_mode": {
    "name": "ipython",
    "version": 3
   },
   "file_extension": ".py",
   "mimetype": "text/x-python",
   "name": "python",
   "nbconvert_exporter": "python",
   "pygments_lexer": "ipython3",
   "version": "3.6.4"
  },
  "toc": {
   "nav_menu": {},
   "number_sections": true,
   "sideBar": true,
   "skip_h1_title": false,
   "title_cell": "Table of Contents",
   "title_sidebar": "Python组会",
   "toc_cell": false,
   "toc_position": {
    "height": "512px",
    "left": "1139px",
    "top": "107.13px",
    "width": "322px"
   },
   "toc_section_display": true,
   "toc_window_display": true
  }
 },
 "nbformat": 4,
 "nbformat_minor": 2
}
