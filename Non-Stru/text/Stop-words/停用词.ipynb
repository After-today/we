{
 "cells": [
  {
   "cell_type": "markdown",
   "metadata": {},
   "source": [
    "\n",
    "# 安装nltk\n",
    "\n",
    "\n",
    "\n",
    "\n",
    "\n",
    "\n",
    "nltk（natural language toolkit)是python的自然语言处理工具包。\n",
    " 自然语言是指人们日常交流使用的语言，如英语，印地语，葡萄牙语等。“自\n",
    " 然语言处理”（Natural Language Processing 简称NLP）包含所有用\n",
    " 计算机对自然语言进行的操作，从最简单的通过计数词出现的频率来比较不同\n",
    " 的写作风格，到最复杂的完全“理解”人所说的话，至少要能达到对人的话语作\n",
    " 出有效反应的程度。\n",
    "\n",
    "\n",
    "\n",
    "\n",
    "\n",
    "\n",
    "pip install nltk\n"
   ]
  },
  {
   "cell_type": "code",
   "execution_count": null,
   "metadata": {},
   "outputs": [],
   "source": [
    "import nltk \n",
    "nltk.download()#下载nltk当中的语料库\n"
   ]
  },
  {
   "cell_type": "markdown",
   "metadata": {},
   "source": [
    "showing info https://raw.githubusercontent.com/nltk/nltk_data/gh-pages/index.xml\n"
   ]
  },
  {
   "cell_type": "markdown",
   "metadata": {},
   "source": [
    "本章中需要用到的库有：stopwords,averanged-perceptron-tagger,gutenburg,movie-reviews,names"
   ]
  },
  {
   "cell_type": "markdown",
   "metadata": {},
   "source": [
    "\n",
    "# 滤除停用字、姓名和数字\n",
    "\n",
    "\n",
    "\n",
    "\n",
    "\n",
    "\n",
    "进行文本分析时，我们经常需要对停用词（Stopwords）进行剔除，这里所谓停用词就是那些非常常见，但没有多大信息含量的词。\n"
   ]
  },
  {
   "cell_type": "code",
   "execution_count": null,
   "metadata": {},
   "outputs": [],
   "source": [
    "import nltk\n",
    "# 加载英语停用字语料\n",
    "sw = set(nltk.corpus.stopwords.words('English'))\n",
    "#set()函数创建一个无序不重复元素集，可进行关系测试，删除重复数据\n",
    "print('Stop words', list(sw)[:7])\n"
   ]
  },
  {
   "cell_type": "markdown",
   "metadata": {},
   "source": [
    "\n",
    "Stop words ['does', 'from', 'they', 'yours', 'so', 'o', 'him']\n",
    "\n",
    "\n",
    "\n",
    "\n",
    "\n",
    "\n",
    "\n",
    "注意：这个语料库中的所有单词都是小写形式。\n",
    "nltk还提供一个Gutenberg语料库。该项目是一个数字图书馆计划，\n",
    " 旨在收集大量版权已经过期的图书，供人们在互联网上免费阅读。\n",
    " 下面代码是加载Gutenberg语料库，并输出部分书名的代码\n"
   ]
  },
  {
   "cell_type": "code",
   "execution_count": null,
   "metadata": {},
   "outputs": [],
   "source": [
    "# 取得gutenberg语料库中的部分文件\n",
    "gb = nltk.corpus.gutenberg\n",
    "print('Gutenberg files', gb.fileids()[-5:])\n",
    "# 取milton-paradise.txt文件中的前两句,作为下面所用的过滤语句\n",
    "text_sent = gb.sents(\"milton-paradise.txt\")[:2]\n",
    "print('Unfiltered', text_sent)\n",
    "# 过滤停用字\n",
    "for sent in text_sent:\n",
    "    filtered = [w for w in sent if w.lower() not in sw]\n",
    "    print('Filtered', filtered) \n",
    "    # 取得文本内所含的标签\n",
    "    tagged = nltk.pos_tag(filtered)#返回一个元组列表,各元祖的第二个元素是文本对应的标签\n",
    "    print(\"Tagged\", tagged)\n"
   ]
  },
  {
   "cell_type": "markdown",
   "metadata": {},
   "source": [
    "\n",
    "Gutenberg files ['milton-paradise.txt', 'shakespeare-caesar.txt', 'shakespeare-hamlet.txt', 'shakespeare-macbeth.txt', 'whitman-leaves.txt']\n",
    "Unfiltered [['[', 'Paradise', 'Lost', 'by', 'John', 'Milton', '1667', ']'], ['Book', 'I']]\n",
    "Filtered ['[', 'Paradise', 'Lost', 'John', 'Milton', '1667', ']']\n",
    "Tagged [('[', 'JJ'), ('Paradise', 'NNP'), ('Lost', 'NNP'), ('John', 'NNP'), ('Milton', 'NNP'), ('1667', 'CD'), (']', 'NN')]\n",
    "Filtered ['Book']\n",
    "Tagged [('Book', 'NN')]\n",
    "\n",
    "\n",
    "\n",
    "\n",
    "\n",
    "\n",
    "\n",
    "与前面相比已经滤掉了by和I，因为他们出现在停用词语料库中，\n",
    " 有时，我们希望把文本中的数字和姓名也删掉，可以根据词性标签来删除某些单词，\n",
    " 数字对应基数标签（CD），姓名对应着单数形式的专有名词（NNP）标签。\n"
   ]
  },
  {
   "cell_type": "code",
   "execution_count": null,
   "metadata": {},
   "outputs": [],
   "source": [
    "words = []\n",
    "for word in tagged:\n",
    "    if word[1] != 'NNP' and word[1] != 'CD':\n",
    "        words.append(word[0])\n",
    "print(words)\n",
    "# 词性标注集\n",
    "# print(nltk.tag.tagset_mapping('ru-rnc', 'universal'))\n"
   ]
  },
  {
   "cell_type": "markdown",
   "metadata": {},
   "source": [
    "['Book']"
   ]
  },
  {
   "cell_type": "code",
   "execution_count": null,
   "metadata": {},
   "outputs": [],
   "source": []
  }
 ],
 "metadata": {
  "kernelspec": {
   "display_name": "Python 3",
   "language": "python",
   "name": "python3"
  },
  "language_info": {
   "codemirror_mode": {
    "name": "ipython",
    "version": 3
   },
   "file_extension": ".py",
   "mimetype": "text/x-python",
   "name": "python",
   "nbconvert_exporter": "python",
   "pygments_lexer": "ipython3",
   "version": "3.6.4"
  }
 },
 "nbformat": 4,
 "nbformat_minor": 2
}
