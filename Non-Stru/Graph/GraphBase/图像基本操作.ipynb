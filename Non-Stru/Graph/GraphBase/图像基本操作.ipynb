{
 "cells": [
  {
   "cell_type": "markdown",
   "metadata": {},
   "source": [
    "\n",
    "# 操作图像\n",
    "\n",
    "\n",
    "\n",
    "\n",
    "\n",
    "## 处理Image数据类型\n",
    "\n",
    "\n",
    "\n",
    "\n",
    "\n",
    "\n",
    "★Image对象有一些属性，例如size（返回图像的宽度和高度），filename，\n",
    "format（图像格式）,format_description（详细的图像格式）\n"
   ]
  },
  {
   "cell_type": "code",
   "execution_count": null,
   "metadata": {},
   "outputs": [],
   "source": [
    "from PIL import Image\n",
    "import matplotlib.pyplot as plt\n",
    "from skimage import io\n",
    "import matplotlib.pyplot as plt\n",
    "catIm=Image.open('F:/课程设计及上机实验/python/zophie.png')\n",
    "catIm\n",
    "# plt.figure(\"zophie\")\n",
    "# plt.imshow(catIm)\n",
    "# plt.show()"
   ]
  },
  {
   "cell_type": "code",
   "execution_count": null,
   "metadata": {},
   "outputs": [],
   "source": [
    "catIm.size"
   ]
  },
  {
   "cell_type": "code",
   "execution_count": null,
   "metadata": {},
   "outputs": [],
   "source": [
    "catIm.filename"
   ]
  },
  {
   "cell_type": "code",
   "execution_count": null,
   "metadata": {},
   "outputs": [],
   "source": [
    "catIm.format "
   ]
  },
  {
   "cell_type": "code",
   "execution_count": null,
   "metadata": {},
   "outputs": [],
   "source": [
    "catIm.format_description"
   ]
  },
  {
   "cell_type": "markdown",
   "metadata": {},
   "source": [
    "★Image.new()函数可以创建一个空白的图像，它返回一个Image对象。\n",
    " 该函数的参数有：字符串‘RGBA’大小，两整数的元组，作为新图像的宽\n",
    " 度和高度背景颜色，是一个表示‘RGBA’值的四整数元组，或者是颜色名称。"
   ]
  },
  {
   "cell_type": "code",
   "execution_count": null,
   "metadata": {},
   "outputs": [],
   "source": [
    "im = Image.new('RGBA', (20, 20))\n",
    "im.save('transparentImage.png')\n",
    "transparentImage=Image.open('transparentImage.png')\n",
    "plt.figure(\"transparentImage\")\n",
    "plt.imshow(transparentImage)\n",
    "plt.show()"
   ]
  },
  {
   "cell_type": "code",
   "execution_count": null,
   "metadata": {},
   "outputs": [],
   "source": [
    "from PIL import Image\n",
    "im2 = Image.new('RGBA', (100, 200), 'purple')\n",
    "im2.save('purpleImage.png')\n",
    "purpleImage=Image.open('purpleImage.png')\n",
    "plt.figure(\"purpleImage\")\n",
    "plt.imshow(purpleImage)\n",
    "plt.show()"
   ]
  },
  {
   "cell_type": "code",
   "execution_count": null,
   "metadata": {},
   "outputs": [],
   "source": [
    "from PIL import Image\n",
    "#im = Image.new('RGBA', (100, 200), (0,0,0,255))\n",
    "im = Image.new('RGBA', (100, 200), (0,0,0,0))\n",
    "im.save('alpha.png')\n",
    "alpha=Image.open('alpha.png')\n",
    "plt.figure(\"alpha\")\n",
    "plt.imshow(alpha)\n",
    "plt.show()"
   ]
  },
  {
   "cell_type": "markdown",
   "metadata": {},
   "source": [
    "\n",
    "## 裁剪图像\n",
    "\n",
    "\n",
    "\n",
    "\n",
    "\n",
    "\n",
    "★裁剪图像crop()\n",
    " Image对象的crop()方法接受一个矩形元组，返回一个Image对象，表示\n",
    " 裁剪后的图像。请记住，矩形元组包括左列和顶行的像素，直至不包括右列\n",
    " 和底行的元素。\n"
   ]
  },
  {
   "cell_type": "code",
   "execution_count": null,
   "metadata": {},
   "outputs": [],
   "source": [
    "croppedIm = catIm.crop((335, 345, 565, 560))\n",
    "croppedIm.save('cropped.png')\n",
    "croppedIm"
   ]
  },
  {
   "cell_type": "markdown",
   "metadata": {},
   "source": [
    "\n",
    "\n",
    "## 制和粘贴图像到其他图像\n",
    "\n",
    "\n",
    "\n",
    "\n",
    "\n",
    "\n",
    "★复制Icopy()和粘贴paste()图像\n",
    "Image对象的copy()方法返回一个新的Image对象，Image对象的paste()\n",
    "方法将另一个图像粘贴在它上面。\n"
   ]
  },
  {
   "cell_type": "code",
   "execution_count": null,
   "metadata": {},
   "outputs": [],
   "source": [
    "catIm = Image.open('F:/课程设计及上机实验/python/zophie.png')\n",
    "catCopyIm = catIm.copy()\n",
    "plt.figure(\"zophie\")\n",
    "plt.imshow(catIm)\n",
    "plt.show()"
   ]
  },
  {
   "cell_type": "code",
   "execution_count": null,
   "metadata": {},
   "outputs": [],
   "source": [
    "faceIm = catIm.crop((335, 345, 565, 560))# (左，顶，右，底)\n",
    "faceIm.size\n",
    "catCopyIm.paste(faceIm, (0, 0))\n",
    "catCopyIm.paste(faceIm, (400, 500))\n",
    "catCopyIm.save('pasted.png')\n",
    "pasted=Image.open('pasted.png')\n",
    "plt.figure(\"pasted\")\n",
    "plt.imshow(pasted)\n",
    "plt.show()"
   ]
  },
  {
   "cell_type": "code",
   "execution_count": null,
   "metadata": {},
   "outputs": [],
   "source": [
    "catImWidth, catImHeight = catIm.size\n",
    "faceImWidth, faceImHeight = faceIm.size\n",
    "catCopyTwo = catIm.copy()\n",
    "for left in range(0, catImWidth, faceImWidth):\n",
    "    for top in range(0, catImHeight, faceImHeight):\n",
    "        print(left, top)\n",
    "        catCopyTwo.paste(faceIm, (left, top))"
   ]
  },
  {
   "cell_type": "code",
   "execution_count": null,
   "metadata": {},
   "outputs": [],
   "source": [
    "catCopyTwo.save('tiled.png')\n",
    "tiled=Image.open('tiled.png')\n",
    "plt.figure(\"tiled\")\n",
    "plt.imshow(tiled)\n",
    "plt.show()"
   ]
  },
  {
   "cell_type": "code",
   "execution_count": null,
   "metadata": {},
   "outputs": [],
   "source": [
    "width, height = catIm.size\n",
    "quartersizedIm = catIm.resize((int(width / 2), int(height / 2)))\n",
    "quartersizedIm.save('quartersized.png')\n",
    "quartersized=Image.open('quartersized.png')\n",
    "plt.figure(\"quartersized\")\n",
    "plt.imshow(quartersized)\n",
    "plt.show()\n",
    "svelteIm = catIm.resize((width, height + 300))\n",
    "svelteIm.save('svelte.png')\n",
    "svelte=Image.open('svelte.png')\n",
    "plt.figure(\"svelte\")\n",
    "plt.imshow(svelte)\n",
    "plt.show()"
   ]
  },
  {
   "cell_type": "markdown",
   "metadata": {},
   "source": [
    "\n",
    "## 旋转和翻转图像\n",
    "\n",
    "\n",
    "\n",
    "\n",
    "\n",
    "\n",
    "★旋转图像rotate()，传入旋转的角度（整数或浮点数），该方法返回一个\n",
    " 新的Image对象。rotate()有一个可选参数expand，如果expand=True，\n",
    " 则会放大图像的尺寸，以适应旋转后的图像。\n"
   ]
  },
  {
   "cell_type": "code",
   "execution_count": null,
   "metadata": {},
   "outputs": [],
   "source": [
    "catIm.rotate(90).save('rotated90.png')\n",
    "rotated90=Image.open('rotated90.png')\n",
    "catIm.rotate(180).save('rotated180.png')\n",
    "rotated180=Image.open('rotated180.png')\n",
    "catIm.rotate(270).save('rotated270.png')\n",
    "rotated270=Image.open('rotated270.png')\n",
    "plt.figure(1)\n",
    "plt.subplot(141)\n",
    "plt.imshow(catIm)\n",
    "plt.subplot(142)\n",
    "plt.imshow(rotated90)\n",
    "plt.subplot(143)\n",
    "plt.imshow(rotated180)\n",
    "plt.subplot(144)\n",
    "plt.imshow(rotated270)\n",
    "plt.show()"
   ]
  },
  {
   "cell_type": "code",
   "execution_count": null,
   "metadata": {},
   "outputs": [],
   "source": [
    "catIm.rotate(6).save('rotated6_expanded1.png')\n",
    "rotated6_expanded1=Image.open('rotated6_expanded1.png')\n",
    "catIm.rotate(6,expand=True).save('rotated6_expanded.png')\n",
    "rotated6_expanded=Image.open('rotated6_expanded.png')\n",
    "plt.figure(1)\n",
    "plt.subplot(121)\n",
    "plt.imshow(rotated6_expanded1)\n",
    "plt.subplot(122)\n",
    "plt.imshow(rotated6_expanded)\n",
    "plt.show()"
   ]
  },
  {
   "cell_type": "code",
   "execution_count": null,
   "metadata": {},
   "outputs": [],
   "source": [
    "catIm.transpose(Image.FLIP_TOP_BOTTOM).save('horizontal_flip.png')\n",
    "horizontal_flip=Image.open('horizontal_flip.png')\n",
    "catIm.transpose(Image.FLIP_TOP_BOTTOM).save('vertical_flip.png')\n",
    "vertical_flip=Image.open('vertical_flip.png')\n",
    "plt.figure(1)\n",
    "plt.subplot(131)\n",
    "plt.imshow(catIm)\n",
    "plt.subplot(132)\n",
    "plt.imshow(horizontal_flip)\n",
    "plt.subplot(133)\n",
    "plt.imshow(vertical_flip)\n",
    "plt.show()"
   ]
  },
  {
   "cell_type": "markdown",
   "metadata": {},
   "source": [
    "\n",
    "## 更改单个像素\n",
    "\n",
    "\n",
    "\n",
    "\n",
    "\n",
    "\n",
    "★更改单个像素\n",
    "Image对象的getpixel((x,y))返回(x,y)坐标的颜色。\n",
    "Image对象的putpixel((x,y),(210,210,210))将(x,y)坐标颜色设置\n",
    " 为(210,210,210)，可以接受是整数RGBA元组或者三整数RGB元组\n"
   ]
  },
  {
   "cell_type": "code",
   "execution_count": null,
   "metadata": {},
   "outputs": [],
   "source": [
    "ImageColor.getcolor('darkgray', 'RGBA')"
   ]
  },
  {
   "cell_type": "code",
   "execution_count": null,
   "metadata": {},
   "outputs": [],
   "source": [
    "from PIL import ImageColor\n",
    "im = Image.new('RGBA', (100, 100))\n",
    "im.getpixel((0, 0))\n",
    "for x in range(100):\n",
    "    for y in range(50):\n",
    "        im.putpixel((x, y), (210, 210, 210))\n",
    "for x in range(100):\n",
    "    for y in range(50, 100):\n",
    "        im.putpixel((x, y), ImageColor.getcolor('darkgray', 'RGBA'))\n",
    "im.getpixel((0, 0))\n",
    "im.getpixel((0, 50))\n",
    "im.save('putPixel.png')\n",
    "putPixel=Image.open('putPixel.png')\n",
    "plt.figure(\"putPixel\")\n",
    "plt.imshow(putPixel)\n",
    "plt.show()"
   ]
  },
  {
   "cell_type": "markdown",
   "metadata": {},
   "source": [
    "\n",
    "## 添加徽标\n",
    "\n",
    "\n",
    "\n",
    "\n",
    "\n",
    "\n",
    "★给图片添加徽标，注意paste的第三个参数\n"
   ]
  },
  {
   "cell_type": "code",
   "execution_count": null,
   "metadata": {},
   "outputs": [],
   "source": [
    "from PIL import Image  \n",
    "import os  \n",
    "  \n",
    "SIZE=300  \n",
    "LOGO_NAME='catlogo.png'  \n",
    "logo0=Image.open(LOGO_NAME) \n",
    "logo0width,logo0height=logo0.size  \n",
    "logo=logo0.resize((90,100))\n",
    "logowidth,logoheight=logo.size\n",
    "  \n",
    "#遍历文件  \n",
    "for filename in os.listdir('.'):  \n",
    "    if filename.endswith('.png') or filename.endswith('.jpg'):  \n",
    "        if filename==LOGO_NAME:  \n",
    "            continue  \n",
    "        im=Image.open(filename)  \n",
    "        width,height=im.size  \n",
    "        #调整图像的大小,等比例缩放  \n",
    "        if width>SIZE and height>SIZE:  \n",
    "            if width>height:  \n",
    "                height=int((SIZE/width)*height)  \n",
    "                width=SIZE  \n",
    "            else:  \n",
    "                width=int((SIZE/height)*width)  \n",
    "                height=SIZE  \n",
    "            print('resize %s...'%filename)  \n",
    "            im=im.resize((width,height))  \n",
    "            #注意，如果不添加第三个参数logo，paste不会粘贴透明的像素\n",
    "            print('Adding logo to %s...'%(filename))\n",
    "            im.paste(logo,(width - logowidth,height - logoheight),logo)  \n",
    "            im.save(os.path.join('logo'+filename)) "
   ]
  },
  {
   "cell_type": "code",
   "execution_count": null,
   "metadata": {},
   "outputs": [],
   "source": [
    "logozophie=Image.open('logozophie.png')\n",
    "plt.figure(\"logozophie\")\n",
    "plt.imshow(logozophie)\n",
    "plt.show()"
   ]
  },
  {
   "cell_type": "code",
   "execution_count": null,
   "metadata": {},
   "outputs": [],
   "source": []
  }
 ],
 "metadata": {
  "kernelspec": {
   "display_name": "Python 3",
   "language": "python",
   "name": "python3"
  },
  "language_info": {
   "codemirror_mode": {
    "name": "ipython",
    "version": 3
   },
   "file_extension": ".py",
   "mimetype": "text/x-python",
   "name": "python",
   "nbconvert_exporter": "python",
   "pygments_lexer": "ipython3",
   "version": "3.6.4"
  }
 },
 "nbformat": 4,
 "nbformat_minor": 2
}
