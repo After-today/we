{
 "cells": [
  {
   "cell_type": "markdown",
   "metadata": {},
   "source": [
    "\n",
    "# 图像降维\n",
    "\n",
    "\n",
    "\n",
    "\n",
    "\n",
    "\n",
    "## 图像数据清洗"
   ]
  },
  {
   "cell_type": "code",
   "execution_count": null,
   "metadata": {},
   "outputs": [],
   "source": [
    "from skimage import data, io, segmentation\n",
    "import matplotlib.pyplot as plt\n",
    "image=data.coffee()\n",
    "io.imshow(image)\n",
    "plt.axis('off')#不显示坐标尺寸\n",
    "plt.show()"
   ]
  },
  {
   "cell_type": "code",
   "execution_count": null,
   "metadata": {},
   "outputs": [],
   "source": [
    "import skimage\n",
    "grey_image=skimage.color.rgb2gray(image)#将图像变为灰色\n",
    "io.imshow(grey_image)\n",
    "plt.axis('off')\n",
    "plt.show()"
   ]
  },
  {
   "cell_type": "code",
   "execution_count": null,
   "metadata": {},
   "outputs": [],
   "source": [
    "from skimage import exposure\n",
    "image_equalized=exposure.equalize_hist(grey_image)#标准化像素\n",
    "io.imshow(image_equalized)\n",
    "plt.axis('off')\n",
    "plt.show()"
   ]
  },
  {
   "cell_type": "code",
   "execution_count": null,
   "metadata": {},
   "outputs": [],
   "source": [
    "plt.hist(grey_image.ravel())#未纠正图像像素强度分布\n",
    "plt.show()"
   ]
  },
  {
   "cell_type": "code",
   "execution_count": null,
   "metadata": {},
   "outputs": [],
   "source": [
    "plt.hist(image_equalized.ravel(),color='b')#标准化后的像素强度分布\n",
    "plt.show()"
   ]
  },
  {
   "cell_type": "markdown",
   "metadata": {},
   "source": [
    "\n",
    "## 利用图像阈值来突出显示对象\n",
    "\n",
    "\n",
    "\n",
    "\n",
    "\n",
    "\n",
    "摄像头会产生一副具有不同等级的灰度图像。许多应用都必须清楚的知道图像\n",
    " 的那一部分是纯黑或纯白，以便将文字传递给OCR软件去识别。这些系统无法\n",
    " 使用灰度图像（典型的是8位每像素），因此必须将他们转换为黑白图像。这\n",
    " 有很多种方式去实现。在某些情况下，如果这些图像最终是给人看的，这些图\n",
    " 像会使用一些抖动技术，以便使他们看起来更像灰度图像。但是对于机器处理\n",
    " 的过程，比如文字识别，选择复制操作，或多个图像合成，系统就不可以使用\n",
    " 抖动的图像。系统仅仅需要简单的线条、文字或相对大块的黑色和白色。从灰\n",
    " 度图像获得这种黑白图像的过程通常称作为阈值化。\n"
   ]
  },
  {
   "cell_type": "code",
   "execution_count": null,
   "metadata": {},
   "outputs": [],
   "source": [
    "from skimage import data, io, segmentation\n",
    "import matplotlib.pyplot as plt\n",
    "coins=data.coins()\n",
    "io.imshow(coins)\n",
    "plt.axis('off')\n",
    "plt.show()"
   ]
  },
  {
   "cell_type": "code",
   "execution_count": null,
   "metadata": {},
   "outputs": [],
   "source": [
    "import skimage\n",
    "grey_coins=skimage.color.rgb2gray(coins)#变成灰色\n",
    "io.imshow(grey_coins)\n",
    "plt.axis('off')\n",
    "plt.show()"
   ]
  },
  {
   "cell_type": "code",
   "execution_count": null,
   "metadata": {},
   "outputs": [],
   "source": [
    "from skimage import exposure\n",
    "coins_equalized=exposure.equalize_hist(grey_coins)#标准化\n",
    "io.imshow(coins_equalized)\n",
    "plt.axis('off')\n",
    "plt.show()"
   ]
  },
  {
   "cell_type": "markdown",
   "metadata": {},
   "source": [
    "将背景和硬币分离开：\n",
    " 背景图像往左上角方向亮度逐渐增强，这个差异并没有改变背景和对象（硬币）\n",
    " 的区别，但是由于背景的一部分与硬币在同样的强度范围内，因此将硬币分离\n",
    " 出来就稍显困难。为了去掉背景，我们可以使用渐进函数，按顺序先侵蚀（去\n",
    " 掉那些比结构元素小的白色区域）然后再扩大（如果在结构元素之内有一个白\n",
    " 色像素，那么结构元素之类的所有元素被翻转为白色）。实践中，意味着要去\n",
    " 掉那些白色的小斑点，并增强那些剩余的浅色区域。如果从图像中去掉这些小\n",
    " 斑点，那么就去掉了背景。"
   ]
  },
  {
   "cell_type": "code",
   "execution_count": null,
   "metadata": {},
   "outputs": [],
   "source": [
    "from skimage.morphology import opening,disk\n",
    "d=disk(50)\n",
    "background=opening(coins_equalized,d)\n",
    "io.imshow(coins_equalized-background)#去掉背景\n",
    "plt.show()\n"
   ]
  },
  {
   "cell_type": "markdown",
   "metadata": {},
   "source": [
    "\n",
    "\n",
    "去掉了背景，下面用Otsu阈值算法来找到理想的像素，进而将图像分成背景和对象。\n",
    " 自适应阈值二值化算法 https://blog.csdn.net/lbing9002/article/details/70276271?locationNum=3&fps=1\n",
    "\n",
    "\n",
    "\n",
    "\n",
    "\n",
    "\n",
    "灰度级:表示灰度图像的亮度层次范围.级数越多图像的亮度范围越大层次越丰富.\n",
    "用于描述整副图像亮度层次.\n",
    "灰度值:表示灰度图像单个像素点的亮度值.值越大,像素点越亮;反之越暗.\n",
    "用于描述图像中具体像素的亮度值.\n",
    "灰度图像是一种具有从黑到白256级灰度色阶或等级的单色图像。该图像中的每个像素用8位数据表示，\n",
    " 因此像素点值介于黑白间的256种灰度中的一种(灰度值的取值范围是0~255)。该图像只有灰度等级，而没有颜色的变化。\n"
   ]
  },
  {
   "cell_type": "code",
   "execution_count": null,
   "metadata": {},
   "outputs": [],
   "source": [
    "from skimage import  filters\n",
    "threshold_global_otsu= filters.threshold_otsu(coins_equalized-background)\n",
    "global_otsu=(coins_equalized-background)>=threshold_global_otsu\n",
    "io.imshow(global_otsu)\n",
    "plt.show()"
   ]
  },
  {
   "cell_type": "code",
   "execution_count": null,
   "metadata": {},
   "outputs": [],
   "source": [
    "(coins_equalized-background)"
   ]
  },
  {
   "cell_type": "code",
   "execution_count": null,
   "metadata": {},
   "outputs": [],
   "source": [
    "threshold_global_otsu"
   ]
  }
 ],
 "metadata": {
  "kernelspec": {
   "display_name": "Python 3",
   "language": "python",
   "name": "python3"
  },
  "language_info": {
   "codemirror_mode": {
    "name": "ipython",
    "version": 3
   },
   "file_extension": ".py",
   "mimetype": "text/x-python",
   "name": "python",
   "nbconvert_exporter": "python",
   "pygments_lexer": "ipython3",
   "version": "3.6.4"
  }
 },
 "nbformat": 4,
 "nbformat_minor": 2
}
