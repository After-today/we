{
 "cells": [
  {
   "cell_type": "markdown",
   "metadata": {},
   "source": [
    "# NumPy"
   ]
  },
  {
   "cell_type": "markdown",
   "metadata": {},
   "source": [
    "author：黄子芮\n",
    "创建时间：2018/10/17"
   ]
  },
  {
   "cell_type": "markdown",
   "metadata": {},
   "source": [
    "* ndarray 多维数组\n",
    "有以下注意事项：所有元素必须是相同类型\n",
    "\n",
    "ndim属性，维度个数\n",
    "\n",
    "shape属性，各维度大小\n",
    "\n",
    "dtype属性，数据类型"
   ]
  },
  {
   "cell_type": "code",
   "execution_count": 2,
   "metadata": {},
   "outputs": [
    {
     "name": "stdout",
     "output_type": "stream",
     "text": [
      "[[0.84637228 0.34988725 0.23863176]\n",
      " [0.95878432 0.65730086 0.91907971]]\n",
      "<class 'numpy.ndarray'>\n"
     ]
    }
   ],
   "source": [
    "import numpy as np\n",
    "\n",
    "# 生成指定维度的随机多维数据\n",
    "data = np.random.rand(2, 3)\n",
    "print (data)\n",
    "print (type(data))"
   ]
  },
  {
   "cell_type": "markdown",
   "metadata": {},
   "source": [
    "* ndim, shape 和 dtype 属性"
   ]
  },
  {
   "cell_type": "code",
   "execution_count": 4,
   "metadata": {},
   "outputs": [
    {
     "name": "stdout",
     "output_type": "stream",
     "text": [
      "维度个数 2\n",
      "各维度大小:  (2, 3)\n",
      "数据类型:  float64\n"
     ]
    }
   ],
   "source": [
    "print ('维度个数', data.ndim)\n",
    "print ('各维度大小: ', data.shape)\n",
    "print ('数据类型: ', data.dtype)"
   ]
  },
  {
   "cell_type": "markdown",
   "metadata": {},
   "source": [
    "* 创建ndarray\n",
    "使用np.array（collection），collection为序列型对象（list），嵌套序列（list of list）\n",
    "\n",
    "np.zeros，np.ones,np.empty指定大小的全0或全1数组，注意第一个参数为元组 ，用来指定大小，如（2,3）；empty并不总是返回全0，有时候返回的是未初始的随机值\n"
   ]
  },
  {
   "cell_type": "code",
   "execution_count": 6,
   "metadata": {},
   "outputs": [
    {
     "name": "stdout",
     "output_type": "stream",
     "text": [
      "[0 1 2 3 4 5 6 7 8 9]\n",
      "(10,)\n",
      "1\n"
     ]
    }
   ],
   "source": [
    "# list转换为 ndarray\n",
    "l = range(10)\n",
    "data = np.array(l)\n",
    "print (data)\n",
    "print (data.shape)\n",
    "print (data.ndim)"
   ]
  },
  {
   "cell_type": "code",
   "execution_count": 8,
   "metadata": {},
   "outputs": [
    {
     "name": "stdout",
     "output_type": "stream",
     "text": [
      "[[0 1 2 3 4 5 6 7 8 9]\n",
      " [0 1 2 3 4 5 6 7 8 9]]\n",
      "(2, 10)\n"
     ]
    }
   ],
   "source": [
    "# 如果想要生成一个二维数组 应该怎么办呢？嵌套序列转换为ndarray\n",
    "l2 = [range(10), range(10)]\n",
    "data = np.array(l2)\n",
    "print (data)\n",
    "print (data.shape)"
   ]
  },
  {
   "cell_type": "code",
   "execution_count": 9,
   "metadata": {},
   "outputs": [
    {
     "name": "stdout",
     "output_type": "stream",
     "text": [
      "[[0. 0. 0. 0.]\n",
      " [0. 0. 0. 0.]\n",
      " [0. 0. 0. 0.]]\n",
      "-------------\n",
      "[[1. 1. 1.]\n",
      " [1. 1. 1.]]\n",
      "-------------\n",
      "[[8.4e-323 0.0e+000 0.0e+000]\n",
      " [0.0e+000 0.0e+000 9.5e-322]\n",
      " [0.0e+000 0.0e+000 0.0e+000]]\n",
      "-------------\n",
      "[[1970339893 1830839393  807419168]\n",
      " [1684823084  745763951  774974830]\n",
      " [1950943754 1718182944 1936876902]]\n"
     ]
    }
   ],
   "source": [
    "# np.zeros, np.ones 和 np.empty\n",
    "\n",
    "# np.zeros 注意里面是一个元组\n",
    "zeros_arr = np.zeros((3, 4))\n",
    "\n",
    "# np.ones\n",
    "ones_arr = np.ones((2, 3))\n",
    "\n",
    "# np.empty\n",
    "empty_arr = np.empty((3, 3))\n",
    "\n",
    "# np.empty 指定数据类型\n",
    "empty_int_arr = np.empty((3, 3), int)\n",
    "\n",
    "print (zeros_arr)\n",
    "print ('-------------')\n",
    "print (ones_arr)\n",
    "print ('-------------')\n",
    "print (empty_arr)\n",
    "print ('-------------')\n",
    "print (empty_int_arr)"
   ]
  },
  {
   "cell_type": "markdown",
   "metadata": {},
   "source": [
    "np.arange()类似range（），注意是arange 不是arrange"
   ]
  },
  {
   "cell_type": "code",
   "execution_count": 11,
   "metadata": {},
   "outputs": [
    {
     "name": "stdout",
     "output_type": "stream",
     "text": [
      "[0 1 2 3 4 5 6 7 8 9]\n"
     ]
    }
   ],
   "source": [
    "# np.arange()\n",
    "print (np.arange(10))"
   ]
  },
  {
   "cell_type": "markdown",
   "metadata": {},
   "source": [
    "* ndarray数据类型\n",
    "\n",
    "dtype,类型名 + 位数 如float64，int32\n",
    "\n",
    "转换数组类型用astype"
   ]
  },
  {
   "cell_type": "code",
   "execution_count": 12,
   "metadata": {},
   "outputs": [
    {
     "name": "stdout",
     "output_type": "stream",
     "text": [
      "[[0. 0. 0. 0.]\n",
      " [0. 0. 0. 0.]\n",
      " [0. 0. 0. 0.]]\n",
      "float64\n",
      "[[0 0 0 0]\n",
      " [0 0 0 0]\n",
      " [0 0 0 0]]\n",
      "int32\n"
     ]
    }
   ],
   "source": [
    "zeros_float_arr = np.zeros((3, 4), dtype=np.float64)#明确指定是什么类型的数组\n",
    "print (zeros_float_arr)\n",
    "print (zeros_float_arr.dtype)\n",
    "\n",
    "# astype转换数据类型\n",
    "zeros_int_arr = zeros_float_arr.astype(np.int32)\n",
    "print (zeros_int_arr)\n",
    "print (zeros_int_arr.dtype)"
   ]
  },
  {
   "cell_type": "markdown",
   "metadata": {
    "collapsed": true
   },
   "source": [
    "* 矢量化 (vectorization)\n"
   ]
  },
  {
   "cell_type": "code",
   "execution_count": 15,
   "metadata": {},
   "outputs": [
    {
     "name": "stdout",
     "output_type": "stream",
     "text": [
      "[[ 1  4  9]\n",
      " [16 25 36]]\n",
      "[[ 2  4  6]\n",
      " [ 8 10 12]]\n"
     ]
    }
   ],
   "source": [
    "# 矢量与矢量运算\n",
    "arr = np.array([[1, 2, 3],\n",
    "                [4, 5, 6]])\n",
    "\n",
    "# \"元素相乘：\"\n",
    "print (arr * arr)\n",
    "\n",
    "# \"矩阵相加：\"\n",
    "print (arr + arr)"
   ]
  },
  {
   "cell_type": "code",
   "execution_count": 19,
   "metadata": {},
   "outputs": [
    {
     "name": "stdout",
     "output_type": "stream",
     "text": [
      "[[1.         0.5        0.33333333]\n",
      " [0.25       0.2        0.16666667]]\n",
      "[[ 2  4  6]\n",
      " [ 8 10 12]]\n"
     ]
    }
   ],
   "source": [
    "# 矢量与标量运算 会把前面的数字运用在后面每个元素上\n",
    "print (1/ arr)\n",
    "print (2*arr)"
   ]
  },
  {
   "cell_type": "markdown",
   "metadata": {},
   "source": [
    "* 索引与切片\n",
    "\n",
    "一维数组的索引与python列表的索引功能类似"
   ]
  },
  {
   "cell_type": "code",
   "execution_count": 20,
   "metadata": {},
   "outputs": [
    {
     "name": "stdout",
     "output_type": "stream",
     "text": [
      "[0 1 2 3 4 5 6 7 8 9]\n",
      "[2 3 4]\n"
     ]
    }
   ],
   "source": [
    "# 一维数组\n",
    "arr1 = np.arange(10)\n",
    "print (arr1)\n",
    "\n",
    "print (arr1[2:5])"
   ]
  },
  {
   "cell_type": "markdown",
   "metadata": {},
   "source": [
    "![Markdown](http://i4.fuimg.com/611786/aec99a2761a27a23.png)"
   ]
  },
  {
   "cell_type": "code",
   "execution_count": 24,
   "metadata": {},
   "outputs": [
    {
     "name": "stdout",
     "output_type": "stream",
     "text": [
      "[[ 0  1  2  3]\n",
      " [ 4  5  6  7]\n",
      " [ 8  9 10 11]]\n"
     ]
    }
   ],
   "source": [
    "# 多维数组 \n",
    "arr2 = np.arange(12).reshape(3,4)\n",
    "print (arr2)"
   ]
  },
  {
   "cell_type": "code",
   "execution_count": 23,
   "metadata": {},
   "outputs": [
    {
     "name": "stdout",
     "output_type": "stream",
     "text": [
      "[4 5 6 7]\n",
      "[[2 3]\n",
      " [6 7]]\n",
      "[[ 1  2]\n",
      " [ 5  6]\n",
      " [ 9 10]]\n"
     ]
    }
   ],
   "source": [
    "print (arr2[1])\n",
    "\n",
    "print (arr2[0:2, 2:])\n",
    "\n",
    "print (arr2[:, 1:3])"
   ]
  },
  {
   "cell_type": "code",
   "execution_count": 25,
   "metadata": {},
   "outputs": [
    {
     "name": "stdout",
     "output_type": "stream",
     "text": [
      "[[0.5017339  0.74531547 0.98379504]\n",
      " [0.11219191 0.22277618 0.13654768]\n",
      " [0.29838454 0.6831267  0.31603618]]\n",
      "[0.11219191 0.13654768 0.31603618]\n"
     ]
    }
   ],
   "source": [
    "# 条件索引 非常有用 在进行数据过滤的时候有用\n",
    "\n",
    "# 找出 data_arr 中 2015年后的数据\n",
    "data_arr = np.random.rand(3,3)\n",
    "print (data_arr)\n",
    "\n",
    "year_arr = np.array([[2000, 2001, 2000],\n",
    "                     [2005, 2002, 2009],\n",
    "                     [2001, 2003, 2010]])\n",
    "\n",
    "\n",
    "filtered_arr = data_arr[year_arr >= 2005]\n",
    "print (filtered_arr)"
   ]
  },
  {
   "cell_type": "code",
   "execution_count": 26,
   "metadata": {},
   "outputs": [
    {
     "name": "stdout",
     "output_type": "stream",
     "text": [
      "[0.5017339  0.98379504 0.22277618]\n"
     ]
    }
   ],
   "source": [
    "# 多个条件\n",
    "filtered_arr = data_arr[(year_arr <= 2005) & (year_arr % 2 == 0)]\n",
    "print (filtered_arr)"
   ]
  },
  {
   "cell_type": "markdown",
   "metadata": {},
   "source": [
    "* 转置"
   ]
  },
  {
   "cell_type": "code",
   "execution_count": 30,
   "metadata": {},
   "outputs": [
    {
     "name": "stdout",
     "output_type": "stream",
     "text": [
      "[[0.89550286 0.85589083 0.95873865]\n",
      " [0.02208564 0.59977227 0.39512278]]\n",
      "[[0.89550286 0.02208564]\n",
      " [0.85589083 0.59977227]\n",
      " [0.95873865 0.39512278]]\n"
     ]
    }
   ],
   "source": [
    "arr = np.random.rand(2,3)#生成两行三列的数据\n",
    "print (arr)\n",
    "print (arr.transpose())"
   ]
  },
  {
   "cell_type": "code",
   "execution_count": 28,
   "metadata": {},
   "outputs": [
    {
     "name": "stdout",
     "output_type": "stream",
     "text": [
      "[[[0.12150847 0.21979228 0.4752694  0.52620201]\n",
      "  [0.58353326 0.24471992 0.55918624 0.41670595]\n",
      "  [0.51702349 0.77032297 0.42925147 0.27616898]]\n",
      "\n",
      " [[0.06839978 0.61355612 0.02579184 0.06169855]\n",
      "  [0.81227208 0.69840711 0.25112049 0.88658149]\n",
      "  [0.50509641 0.57705717 0.19761102 0.6375159 ]]]\n",
      "----------------------\n",
      "[[[0.12150847 0.21979228 0.4752694  0.52620201]\n",
      "  [0.06839978 0.61355612 0.02579184 0.06169855]]\n",
      "\n",
      " [[0.58353326 0.24471992 0.55918624 0.41670595]\n",
      "  [0.81227208 0.69840711 0.25112049 0.88658149]]\n",
      "\n",
      " [[0.51702349 0.77032297 0.42925147 0.27616898]\n",
      "  [0.50509641 0.57705717 0.19761102 0.6375159 ]]]\n"
     ]
    }
   ],
   "source": [
    "arr3d = np.random.rand(2,3,4)#三维数据 两维 三列  然后纵向是四个维度\n",
    "print (arr3d)\n",
    "print ('----------------------')\n",
    "print (arr3d.transpose((1,0,2))) # 3x2x4  高维数据上的转换"
   ]
  },
  {
   "cell_type": "markdown",
   "metadata": {},
   "source": [
    "* 通用函数\n",
    "\n",
    "ceil，向上最接近的整数\n",
    "\n",
    "floor，向下最接近的整数\n",
    "\n",
    "rint，四舍五入\n",
    "\n",
    "isnan，判断元素是否为NaN\n",
    "\n",
    "mutiply，元素相乘\n",
    "\n",
    "divide，元素相除"
   ]
  },
  {
   "cell_type": "code",
   "execution_count": 31,
   "metadata": {},
   "outputs": [
    {
     "name": "stdout",
     "output_type": "stream",
     "text": [
      "[[-1.36713525 -1.18759362  0.12819542]\n",
      " [ 0.28799408 -0.8557765  -1.99801838]]\n",
      "[[-1. -1.  1.]\n",
      " [ 1. -0. -1.]]\n",
      "[[-2. -2.  0.]\n",
      " [ 0. -1. -2.]]\n",
      "[[-1. -1.  0.]\n",
      " [ 0. -1. -2.]]\n",
      "[[False False False]\n",
      " [False False False]]\n"
     ]
    }
   ],
   "source": [
    "arr = np.random.randn(2,3)\n",
    "\n",
    "print (arr)\n",
    "print (np.ceil(arr))\n",
    "print (np.floor(arr))\n",
    "print (np.rint(arr))\n",
    "print (np.isnan(arr))"
   ]
  },
  {
   "cell_type": "markdown",
   "metadata": {},
   "source": [
    "* np.where\n",
    "\n",
    "矢量版本的三元表达式 x if condition else y\n",
    "\n",
    "np.where（condition ，x，y）"
   ]
  },
  {
   "cell_type": "code",
   "execution_count": 33,
   "metadata": {},
   "outputs": [
    {
     "name": "stdout",
     "output_type": "stream",
     "text": [
      "[[-0.267316   -0.38162152  1.04782421 -0.32111513]\n",
      " [ 1.53116215  1.19204615 -0.54990208 -0.08382776]\n",
      " [ 2.08666438 -0.88362227 -1.18381685  1.24226923]]\n"
     ]
    },
    {
     "data": {
      "text/plain": [
       "array([[-1, -1,  1, -1],\n",
       "       [ 1,  1, -1, -1],\n",
       "       [ 1, -1, -1,  1]])"
      ]
     },
     "execution_count": 33,
     "metadata": {},
     "output_type": "execute_result"
    }
   ],
   "source": [
    "arr = np.random.randn(3,4)\n",
    "print (arr)\n",
    "\n",
    "np.where(arr > 0, 1, -1)#如果满足条件的话，输出x，如果不满足的话输出y"
   ]
  },
  {
   "cell_type": "markdown",
   "metadata": {},
   "source": [
    "*  常用的统计方法\n",
    "\n",
    "np.mean np.sum np.max np.min np.std  np.var  np.cumsum np.cumprod\n",
    "\n",
    "注意 多维的话要指定统计的纬度，否则默认是全部维度上做统计"
   ]
  },
  {
   "cell_type": "code",
   "execution_count": 34,
   "metadata": {},
   "outputs": [
    {
     "name": "stdout",
     "output_type": "stream",
     "text": [
      "[[0 1]\n",
      " [2 3]\n",
      " [4 5]\n",
      " [6 7]\n",
      " [8 9]]\n",
      "45\n",
      "[20 25]\n",
      "[ 1  5  9 13 17]\n"
     ]
    }
   ],
   "source": [
    "arr = np.arange(10).reshape(5,2)#首先生成十个元素的数组 然后把它变成五行 两列\n",
    "print (arr)\n",
    "\n",
    "print (np.sum(arr))\n",
    "print (np.sum(arr, axis=0))\n",
    "print (np.sum(arr, axis=1))#每一行去做一个和"
   ]
  },
  {
   "cell_type": "markdown",
   "metadata": {},
   "source": [
    "* np.all 和 np.any\n",
    "\n",
    "all,全部满足条件\n",
    "\n",
    "any，至少有一个元素满足条件"
   ]
  },
  {
   "cell_type": "code",
   "execution_count": 36,
   "metadata": {},
   "outputs": [
    {
     "name": "stdout",
     "output_type": "stream",
     "text": [
      "[[-1.38851876 -1.665329    1.31793589]\n",
      " [ 0.67618975  1.26266233  0.17698858]]\n",
      "True\n",
      "False\n"
     ]
    }
   ],
   "source": [
    "arr = np.random.randn(2,3)\n",
    "print (arr)\n",
    "\n",
    "print (np.any(arr > 0))\n",
    "print (np.all(arr > 0))"
   ]
  },
  {
   "cell_type": "markdown",
   "metadata": {},
   "source": [
    "* np.unique\n",
    "\n",
    "找到唯一值 并返回 排序结果"
   ]
  },
  {
   "cell_type": "code",
   "execution_count": 38,
   "metadata": {},
   "outputs": [
    {
     "name": "stdout",
     "output_type": "stream",
     "text": [
      "[[1 2 1]\n",
      " [2 3 4]]\n",
      "[1 2 3 4]\n"
     ]
    }
   ],
   "source": [
    "arr = np.array([[1, 2, 1], [2, 3, 4]])\n",
    "print (arr)\n",
    "print (np.unique(arr))#把里面的唯一值拿出来"
   ]
  },
  {
   "cell_type": "markdown",
   "metadata": {},
   "source": [
    "* 文本文件的读取"
   ]
  },
  {
   "cell_type": "code",
   "execution_count": 34,
   "metadata": {},
   "outputs": [
    {
     "name": "stdout",
     "output_type": "stream",
     "text": [
      "[['cycle' 'type' 'matchup']\n",
      " ['2016' '\"polls-plus\"' '\"Clinton vs. Trump vs. Johnson\"']\n",
      " ['2016' '\"polls-plus\"' '\"Clinton vs. Trump vs. Johnson\"']\n",
      " ..., \n",
      " ['2016' '\"polls-only\"' '\"Clinton vs. Trump vs. Johnson\"']\n",
      " ['2016' '\"polls-only\"' '\"Clinton vs. Trump vs. Johnson\"']\n",
      " ['2016' '\"polls-only\"' '\"Clinton vs. Trump vs. Johnson\"']] (10237L, 3L)\n"
     ]
    }
   ],
   "source": [
    "# loadtxt\n",
    "filename = './presidential_polls.csv'\n",
    "data_array = np.loadtxt(filename,      # 文件名\n",
    "                        delimiter=',', # 分隔符\n",
    "                        dtype=str,     # 数据类型\n",
    "                        usecols=(0,2,3)) # 指定读取的列索引号\n",
    "print (data_array, data_array.shape)"
   ]
  },
  {
   "cell_type": "code",
   "execution_count": 35,
   "metadata": {},
   "outputs": [
    {
     "name": "stdout",
     "output_type": "stream",
     "text": [
      "[(2016, '\"polls-plus\"', '\"Clinton vs. Trump vs. Johnson\"')\n",
      " (2016, '\"polls-plus\"', '\"Clinton vs. Trump vs. Johnson\"')\n",
      " (2016, '\"polls-plus\"', '\"Clinton vs. Trump vs. Johnson\"') ...,\n",
      " (2016, '\"polls-only\"', '\"Clinton vs. Trump vs. Johnson\"')\n",
      " (2016, '\"polls-only\"', '\"Clinton vs. Trump vs. Johnson\"')\n",
      " (2016, '\"polls-only\"', '\"Clinton vs. Trump vs. Johnson\"')] (10236L,)\n"
     ]
    }
   ],
   "source": [
    "# loadtxt, 明确指定每列数据的类型\n",
    "filename = './presidential_polls.csv'\n",
    "data_array = np.loadtxt(filename,      # 文件名\n",
    "                        delimiter=',', # 分隔符\n",
    "                        skiprows=1,\n",
    "                        dtype={'names':('cycle', 'type', 'matchup'),\n",
    "                               'formats':('i4', 'S15', 'S50')},     # 数据类型\n",
    "                        usecols=(0,2,3)) # 指定读取的列索引号\n",
    "\n",
    "print (data_array, data_array.shape) # 读取的结果是一维的数组，每个元素是一个元组"
   ]
  },
  {
   "cell_type": "code",
   "execution_count": null,
   "metadata": {
    "collapsed": true
   },
   "outputs": [],
   "source": []
  }
 ],
 "metadata": {
  "anaconda-cloud": {},
  "celltoolbar": "Raw Cell Format",
  "kernelspec": {
   "display_name": "Python 3",
   "language": "python",
   "name": "python3"
  },
  "language_info": {
   "codemirror_mode": {
    "name": "ipython",
    "version": 3
   },
   "file_extension": ".py",
   "mimetype": "text/x-python",
   "name": "python",
   "nbconvert_exporter": "python",
   "pygments_lexer": "ipython3",
   "version": "3.6.5"
  }
 },
 "nbformat": 4,
 "nbformat_minor": 1
}
