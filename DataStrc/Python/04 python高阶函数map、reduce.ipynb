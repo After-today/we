{
 "cells": [
  {
   "cell_type": "markdown",
   "metadata": {},
   "source": [
    "# Python高阶函数\n",
    "\n",
    "author：黄子芮"
   ]
  },
  {
   "cell_type": "markdown",
   "metadata": {},
   "source": [
    "* 函数式编程"
   ]
  },
  {
   "cell_type": "markdown",
   "metadata": {},
   "source": [
    "函数本身也可赋值给变量"
   ]
  },
  {
   "cell_type": "code",
   "execution_count": 3,
   "metadata": {},
   "outputs": [
    {
     "data": {
      "text/plain": [
       "4.0"
      ]
     },
     "execution_count": 3,
     "metadata": {},
     "output_type": "execute_result"
    }
   ],
   "source": [
    "import math\n",
    "math.sqrt(16)#求开方"
   ]
  },
  {
   "cell_type": "code",
   "execution_count": 4,
   "metadata": {},
   "outputs": [
    {
     "data": {
      "text/plain": [
       "<function math.sqrt>"
      ]
     },
     "execution_count": 4,
     "metadata": {},
     "output_type": "execute_result"
    }
   ],
   "source": [
    "math.sqrt"
   ]
  },
  {
   "cell_type": "code",
   "execution_count": 6,
   "metadata": {},
   "outputs": [
    {
     "data": {
      "text/plain": [
       "<function math.sqrt>"
      ]
     },
     "execution_count": 6,
     "metadata": {},
     "output_type": "execute_result"
    }
   ],
   "source": [
    "fun = math.sqrt#函数是可以进行 赋值的\n",
    "fun"
   ]
  },
  {
   "cell_type": "code",
   "execution_count": 7,
   "metadata": {},
   "outputs": [
    {
     "data": {
      "text/plain": [
       "3.1622776601683795"
      ]
     },
     "execution_count": 7,
     "metadata": {},
     "output_type": "execute_result"
    }
   ],
   "source": [
    "fun(10)"
   ]
  },
  {
   "cell_type": "markdown",
   "metadata": {},
   "source": [
    "将函数作为参数"
   ]
  },
  {
   "cell_type": "code",
   "execution_count": 8,
   "metadata": {},
   "outputs": [
    {
     "name": "stdout",
     "output_type": "stream",
     "text": [
      "7.0\n",
      "29\n"
     ]
    }
   ],
   "source": [
    "def func_add(x, y, f):\n",
    "    \"\"\"\n",
    "        functional addition\n",
    "    \"\"\"\n",
    "    return f(x) + f(y)#对x，y分别用f函数 并返回他们的和\n",
    "\n",
    "print (func_add(4, 25, math.sqrt))\n",
    "print (func_add(-4, 25, abs))"
   ]
  },
  {
   "cell_type": "markdown",
   "metadata": {},
   "source": [
    "# map/reduce"
   ]
  },
  {
   "cell_type": "markdown",
   "metadata": {},
   "source": [
    "* map\n",
    "map（function，list）"
   ]
  },
  {
   "cell_type": "markdown",
   "metadata": {},
   "source": [
    "Python 2.x 返回列表。\n",
    "\n",
    "Python 3.x 返回迭代器。![Markdown](http://i1.fuimg.com/611786/3c7073c3eb2ccb9d.png)"
   ]
  },
  {
   "cell_type": "code",
   "execution_count": 13,
   "metadata": {},
   "outputs": [
    {
     "name": "stdout",
     "output_type": "stream",
     "text": [
      "[0, 1, 4, 9, 16, 25, 36, 49, 64, 81]\n",
      "<map object at 0x000000000511A128>\n",
      "<map object at 0x000000000511A208>\n",
      "<map object at 0x000000000511A0F0>\n",
      "<map object at 0x0000000005113A90>\n"
     ]
    }
   ],
   "source": [
    "x_2 = [x**2 for x in range(10)]\n",
    "print (x_2)\n",
    "print(map(math.sqrt,x_2))\n",
    "x_sqrt_lst = map(math.sqrt, x_2)\n",
    "print (x_sqrt_lst)\n",
    "\n",
    "x_2_float_lst = map(float, x_2)\n",
    "print (x_2_float_lst)\n",
    "\n",
    "x_2_str_lst = map(str, x_2)\n",
    "print (x_2_str_lst)"
   ]
  },
  {
   "cell_type": "markdown",
   "metadata": {},
   "source": [
    "* reduce\n",
    "![Markdown](http://i1.fuimg.com/611786/860565cefe2498df.png)"
   ]
  },
  {
   "cell_type": "code",
   "execution_count": 15,
   "metadata": {},
   "outputs": [
    {
     "name": "stdout",
     "output_type": "stream",
     "text": [
      "<map object at 0x000000000511AB00>\n",
      "1234\n"
     ]
    }
   ],
   "source": [
    "from functools import reduce\n",
    "str_lst = map(str, range(5)) # ['0', '1', ...]\n",
    "print (str_lst)\n",
    "\n",
    "def make_num(str1, str2):\n",
    "    return int(str1) * 10 + int(str2)\n",
    "\n",
    "result = reduce(make_num, str_lst)\n",
    "print (result)"
   ]
  },
  {
   "cell_type": "markdown",
   "metadata": {},
   "source": [
    "规范字符串"
   ]
  },
  {
   "cell_type": "code",
   "execution_count": 14,
   "metadata": {},
   "outputs": [
    {
     "name": "stdout",
     "output_type": "stream",
     "text": [
      "['Ponny Ma', 'Robin Li', 'Steve Jobs', 'Bill Gates']\n"
     ]
    }
   ],
   "source": [
    "name_lst = ['poNNY MA', 'rObIN li', 'steve JOBS', 'bILL gates']\n",
    "standard_name_lst = map(str.title, name_lst)\n",
    "print standard_name_lst"
   ]
  },
  {
   "cell_type": "markdown",
   "metadata": {},
   "source": [
    "# filter"
   ]
  },
  {
   "cell_type": "code",
   "execution_count": 16,
   "metadata": {},
   "outputs": [
    {
     "name": "stdout",
     "output_type": "stream",
     "text": [
      "[-10, -9, -8, -7, -6, -5, -4, -3, -2, -1, 0, 1, 2, 3, 4, 5, 6, 7, 8, 9]\n",
      "<filter object at 0x000000000511A940>\n"
     ]
    }
   ],
   "source": [
    "number_lst = list(range(-10, 10))\n",
    "\n",
    "def is_negative(x):\n",
    "    return x < 0\n",
    "\n",
    "filtered_lst = filter(is_negative, number_lst)\n",
    "print (number_lst)\n",
    "print (filtered_lst)"
   ]
  },
  {
   "cell_type": "markdown",
   "metadata": {},
   "source": [
    "# map reduce filter 与匿名函数"
   ]
  },
  {
   "cell_type": "markdown",
   "metadata": {},
   "source": [
    "* map与匿名函数"
   ]
  },
  {
   "cell_type": "code",
   "execution_count": 19,
   "metadata": {},
   "outputs": [
    {
     "name": "stdout",
     "output_type": "stream",
     "text": [
      "[0, 1, 2, 3, 4, 5, 6, 7, 8, 9]\n",
      "[0, 2, 12, 36, 80, 150, 252, 392, 576, 810]\n"
     ]
    }
   ],
   "source": [
    "\n",
    "x_lst = list(range(10))\n",
    "result_lst = map(lambda item : item**2 +item**3, x_lst)\n",
    "print (x_lst)\n",
    "print (list(result_lst))"
   ]
  },
  {
   "cell_type": "markdown",
   "metadata": {},
   "source": [
    "* reduce与匿名函数"
   ]
  },
  {
   "cell_type": "code",
   "execution_count": 20,
   "metadata": {},
   "outputs": [
    {
     "name": "stdout",
     "output_type": "stream",
     "text": [
      "range(1, 5)\n",
      "24\n"
     ]
    }
   ],
   "source": [
    "x_lst = range(1, 5)\n",
    "product = reduce(lambda x, y : x*y, x_lst)\n",
    "print (x_lst)\n",
    "print (product)"
   ]
  },
  {
   "cell_type": "markdown",
   "metadata": {},
   "source": [
    "* filter与匿名函数"
   ]
  },
  {
   "cell_type": "code",
   "execution_count": 21,
   "metadata": {},
   "outputs": [
    {
     "name": "stdout",
     "output_type": "stream",
     "text": [
      "range(-10, 10)\n",
      "<filter object at 0x000000000511A9E8>\n"
     ]
    }
   ],
   "source": [
    "number_lst = range(-10, 10)\n",
    "filtered_lst = filter(lambda x : x<0, number_lst)\n",
    "print (number_lst)\n",
    "print (filtered_lst)"
   ]
  },
  {
   "cell_type": "code",
   "execution_count": null,
   "metadata": {
    "collapsed": true
   },
   "outputs": [],
   "source": []
  }
 ],
 "metadata": {
  "kernelspec": {
   "display_name": "Python 3",
   "language": "python",
   "name": "python3"
  },
  "language_info": {
   "codemirror_mode": {
    "name": "ipython",
    "version": 3
   },
   "file_extension": ".py",
   "mimetype": "text/x-python",
   "name": "python",
   "nbconvert_exporter": "python",
   "pygments_lexer": "ipython3",
   "version": "3.6.5"
  }
 },
 "nbformat": 4,
 "nbformat_minor": 1
}
