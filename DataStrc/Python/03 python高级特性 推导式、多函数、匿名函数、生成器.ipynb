{
 "cells": [
  {
   "cell_type": "markdown",
   "metadata": {},
   "source": [
    "# 集合推导式\n",
    "\n",
    "author：黄子芮"
   ]
  },
  {
   "cell_type": "markdown",
   "metadata": {},
   "source": [
    "* 列表推导式"
   ]
  },
  {
   "cell_type": "code",
   "execution_count": 1,
   "metadata": {},
   "outputs": [
    {
     "name": "stdout",
     "output_type": "stream",
     "text": [
      "3.36 ms ± 311 µs per loop (mean ± std. dev. of 7 runs, 100 loops each)\n"
     ]
    }
   ],
   "source": [
    "%%timeit\n",
    "#普通方法\n",
    "result1 = []\n",
    "for i in range(10000):\n",
    "    if i%2 == 0:\n",
    "        result1.append(i)"
   ]
  },
  {
   "cell_type": "code",
   "execution_count": 2,
   "metadata": {},
   "outputs": [
    {
     "name": "stdout",
     "output_type": "stream",
     "text": [
      "3.29 ms ± 375 µs per loop (mean ± std. dev. of 7 runs, 100 loops each)\n"
     ]
    }
   ],
   "source": [
    "%%timeit\n",
    "#列表推导式方法\n",
    "result2 = [i for i in range(10000) if i%2 == 0]"
   ]
  },
  {
   "cell_type": "code",
   "execution_count": 4,
   "metadata": {},
   "outputs": [
    {
     "name": "stdout",
     "output_type": "stream",
     "text": [
      "['WELCOME', 'PYTHON', 'ANALYSIS', 'COURSE']\n"
     ]
    }
   ],
   "source": [
    "str_lst = ['Welcome', 'to', 'Python', 'Data', 'Analysis', 'Course']\n",
    "result3 = [x.upper() for x in str_lst if len(x) > 4]#把长度大于4的元素拿出来 并转换成大写 upper（）\n",
    "print (result3)"
   ]
  },
  {
   "cell_type": "markdown",
   "metadata": {},
   "source": [
    "* 字典推导式"
   ]
  },
  {
   "cell_type": "code",
   "execution_count": 6,
   "metadata": {},
   "outputs": [
    {
     "name": "stdout",
     "output_type": "stream",
     "text": [
      "{0: 9, 1: 8, 2: 7, 3: 6, 4: 5, 5: 4, 6: 3, 7: 2, 8: 1, 9: 0}\n"
     ]
    }
   ],
   "source": [
    "dict1 = {key : value for key, value in enumerate(reversed(range(10)))}\n",
    "print (dict1)"
   ]
  },
  {
   "cell_type": "markdown",
   "metadata": {},
   "source": [
    "* 集合推导式"
   ]
  },
  {
   "cell_type": "code",
   "execution_count": 7,
   "metadata": {},
   "outputs": [
    {
     "name": "stdout",
     "output_type": "stream",
     "text": [
      "{0, 1, 2, 3, 4, 5, 6, 7, 8, 9}\n"
     ]
    }
   ],
   "source": [
    "set1 = {i for i in range(10)}\n",
    "print (set1)"
   ]
  },
  {
   "cell_type": "markdown",
   "metadata": {},
   "source": [
    "* 嵌套推导式"
   ]
  },
  {
   "cell_type": "code",
   "execution_count": 8,
   "metadata": {},
   "outputs": [
    {
     "name": "stdout",
     "output_type": "stream",
     "text": [
      "[range(0, 10), range(10, 20)]\n"
     ]
    }
   ],
   "source": [
    "lists = [range(10), range(10, 20)]\n",
    "print (lists)"
   ]
  },
  {
   "cell_type": "code",
   "execution_count": 31,
   "metadata": {},
   "outputs": [
    {
     "name": "stdout",
     "output_type": "stream",
     "text": [
      "[0, 2, 4, 6, 8, 10, 12, 14, 16, 18]\n"
     ]
    }
   ],
   "source": [
    "evens = [item for lst in lists for item in lst if item % 2 == 0]\n",
    "print evens"
   ]
  },
  {
   "cell_type": "markdown",
   "metadata": {},
   "source": [
    "# 多函数模式\n",
    "列表里每个都是函数"
   ]
  },
  {
   "cell_type": "code",
   "execution_count": 32,
   "metadata": {},
   "outputs": [
    {
     "name": "stdout",
     "output_type": "stream",
     "text": [
      "['1.123', '1123.454', '899.12312']\n"
     ]
    }
   ],
   "source": [
    "# 处理字符串\n",
    "str_lst = ['$1.123', ' $1123.454', '$899.12312']\n",
    "\n",
    "def remove_space(str):\n",
    "    \"\"\"\n",
    "        remove space\n",
    "    \"\"\"\n",
    "    str_no_space = str.replace(' ', '')\n",
    "    return str_no_space\n",
    "\n",
    "def remove_dollar(str):\n",
    "    \"\"\"\n",
    "        remove $\n",
    "    \"\"\"\n",
    "    if '$' in str:\n",
    "        return str.replace('$', '')\n",
    "    else:\n",
    "        return str\n",
    "\n",
    "def clean_str_lst(str_lst, operations):\n",
    "    \"\"\"\n",
    "        clean string list\n",
    "    \"\"\"\n",
    "    result = []\n",
    "    for item in str_lst:\n",
    "        for op in operations:\n",
    "            item = op(item)#对item进行operation\n",
    "        result.append(item)\n",
    "    return result\n",
    "\n",
    "clean_operations = [remove_space, remove_dollar]#把函数放在一起\n",
    "result = clean_str_lst(str_lst, clean_operations)\n",
    "print result\n",
    "    "
   ]
  },
  {
   "cell_type": "markdown",
   "metadata": {},
   "source": [
    "# 匿名函数 lambda\n",
    "\n",
    "没有函数名 单条语句 不(ˇˍˇ） 想写函数的时候用"
   ]
  },
  {
   "cell_type": "code",
   "execution_count": 9,
   "metadata": {},
   "outputs": [
    {
     "data": {
      "text/plain": [
       "4"
      ]
     },
     "execution_count": 9,
     "metadata": {},
     "output_type": "execute_result"
    }
   ],
   "source": [
    "f = lambda x:x**2#冒号前面是输入的参数 冒号右边是要得到的结果\n",
    "f(2)"
   ]
  },
  {
   "cell_type": "code",
   "execution_count": 10,
   "metadata": {},
   "outputs": [
    {
     "name": "stdout",
     "output_type": "stream",
     "text": [
      "['to', 'Data', 'Python', 'Course', 'Welcome', 'Analysis']\n",
      "['Data', 'Course', 'Welcome', 'Python', 'to', 'Analysis']\n"
     ]
    }
   ],
   "source": [
    "str_lst = ['Welcome', 'to', 'Python', 'Data', 'Analysis', 'Course']\n",
    "str_lst.sort(key=lambda x:len(x)) # sort by length\n",
    "print (str_lst)\n",
    "\n",
    "str_lst.sort(key=lambda x:x[-1]) # sort by the last letter\n",
    "print (str_lst"
   ]
  },
  {
   "cell_type": "markdown",
   "metadata": {},
   "source": [
    "# 生成器 generator\n",
    "如果写程序的时候要经常返回值的时候能用上\n",
    "生成器是一次生成一个值的特殊类型函数。可以将其视为可恢复函数。调用该函数将返回一个可用于生成连续 x 值的生成器【Generator】，简单的说就是在函数的执行过程中，yield语句会把你需要的值返回给调用生成器的地方，然后退出函数，下一次调用生成器函数的时候又从上次中断的地方开始执行，而生成器内的所有变量参数都会被保存下来供下一次使用。\n"
   ]
  },
  {
   "cell_type": "code",
   "execution_count": 11,
   "metadata": {},
   "outputs": [
    {
     "data": {
      "text/plain": [
       "generator"
      ]
     },
     "execution_count": 11,
     "metadata": {},
     "output_type": "execute_result"
    }
   ],
   "source": [
    "def gen_test():\n",
    "    for i in range(3):\n",
    "        yield i\n",
    "        \n",
    "gen = gen_test() #此时不执行生成器\n",
    "type(gen)"
   ]
  },
  {
   "cell_type": "code",
   "execution_count": 12,
   "metadata": {},
   "outputs": [
    {
     "name": "stdout",
     "output_type": "stream",
     "text": [
      "0\n",
      "1\n",
      "2\n"
     ]
    }
   ],
   "source": [
    "for i in gen: # 直到迭代时才执行\n",
    "    print (i)"
   ]
  },
  {
   "cell_type": "code",
   "execution_count": null,
   "metadata": {
    "collapsed": true
   },
   "outputs": [],
   "source": []
  }
 ],
 "metadata": {
  "kernelspec": {
   "display_name": "Python 3",
   "language": "python",
   "name": "python3"
  },
  "language_info": {
   "codemirror_mode": {
    "name": "ipython",
    "version": 3
   },
   "file_extension": ".py",
   "mimetype": "text/x-python",
   "name": "python",
   "nbconvert_exporter": "python",
   "pygments_lexer": "ipython3",
   "version": "3.6.5"
  }
 },
 "nbformat": 4,
 "nbformat_minor": 1
}
